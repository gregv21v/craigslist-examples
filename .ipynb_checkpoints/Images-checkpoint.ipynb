{
 "cells": [
  {
   "cell_type": "code",
   "execution_count": 22,
   "metadata": {
    "collapsed": false,
    "scrolled": false
   },
   "outputs": [
    {
     "name": "stdout",
     "output_type": "stream",
     "text": [
      "[]\n"
     ]
    },
    {
     "ename": "IndexError",
     "evalue": "list index out of range",
     "output_type": "error",
     "traceback": [
      "\u001b[1;31m---------------------------------------------------------------------------\u001b[0m",
      "\u001b[1;31mIndexError\u001b[0m                                Traceback (most recent call last)",
      "\u001b[1;32m<ipython-input-22-d8d508b06926>\u001b[0m in \u001b[0;36m<module>\u001b[1;34m()\u001b[0m\n\u001b[0;32m     26\u001b[0m \u001b[0mprint\u001b[0m\u001b[1;33m(\u001b[0m\u001b[0murls\u001b[0m\u001b[1;33m)\u001b[0m\u001b[1;33m\u001b[0m\u001b[0m\n\u001b[0;32m     27\u001b[0m \u001b[1;33m\u001b[0m\u001b[0m\n\u001b[1;32m---> 28\u001b[1;33m \u001b[0mturl\u001b[0m \u001b[1;33m=\u001b[0m \u001b[0murls\u001b[0m\u001b[1;33m[\u001b[0m\u001b[1;36m0\u001b[0m\u001b[1;33m]\u001b[0m\u001b[1;33m\u001b[0m\u001b[0m\n\u001b[0m\u001b[0;32m     29\u001b[0m \u001b[0mprint\u001b[0m\u001b[1;33m(\u001b[0m\u001b[0mturl\u001b[0m\u001b[1;33m)\u001b[0m\u001b[1;33m\u001b[0m\u001b[0m\n\u001b[0;32m     30\u001b[0m \u001b[0mImage\u001b[0m\u001b[1;33m(\u001b[0m\u001b[0murl\u001b[0m\u001b[1;33m=\u001b[0m\u001b[0mturl\u001b[0m\u001b[1;33m,\u001b[0m \u001b[0mformat\u001b[0m\u001b[1;33m=\u001b[0m\u001b[1;34m\"jpg\"\u001b[0m\u001b[1;33m)\u001b[0m\u001b[1;33m\u001b[0m\u001b[0m\n",
      "\u001b[1;31mIndexError\u001b[0m: list index out of range"
     ]
    }
   ],
   "source": [
    "from craigslist import *\n",
    "from util import *\n",
    "#from StringIO import StringIO\n",
    "from IPython.display import Image\n",
    "from IPython.core.display import HTML \n",
    "from IPython.display import display\n",
    "\n",
    "import urllib\n",
    "\n",
    "\n",
    "\n",
    "\n",
    "# get the collection of desired data\n",
    "houses = CraigslistForSale(\n",
    "    site=\"boston\"\n",
    ")\n",
    "\n",
    "\n",
    "result = houses.get_results(limit=10)\n",
    "\n",
    "datam = next(result)\n",
    "print(datam)\n",
    "\n",
    "# get image urls\n",
    "urls = get_img_urls(datam)\n",
    "print(urls)\n",
    "\n",
    "#turl = urls[0]\n",
    "#print(turl)\n",
    "#Image(url=turl, format=\"jpg\")\n",
    "\n",
    "\n",
    "# download images\n",
    "for URL in urls:\n",
    "    \n",
    "    #print(URL)\n",
    "    \n",
    "    # display image\n",
    "    display(Image(URL))\n",
    "    \n",
    "\n",
    "    '''\n",
    "    img = Image.open(\n",
    "        StringIO(urllib.urlopen(url).read())\n",
    "    )\n",
    "\n",
    "    '''\n",
    "    \n",
    "    '''\n",
    "    urllib.urlretrieve(\n",
    "        url,\n",
    "        \"./images/\" + url.rsplit('/', 1)[-1]\n",
    "    )\n",
    "    '''\n",
    "#Image(\"https://images.craigslist.org/00P0P_ezn7TlRWZ6q_600x450.jpg\")\n",
    "#Image(\"https://images.craigslist.org/01212_cdzx2AGa6cI_600x450.jpg\")\n",
    "    "
   ]
  },
  {
   "cell_type": "code",
   "execution_count": null,
   "metadata": {
    "collapsed": true
   },
   "outputs": [],
   "source": []
  },
  {
   "cell_type": "code",
   "execution_count": null,
   "metadata": {
    "collapsed": true
   },
   "outputs": [],
   "source": []
  }
 ],
 "metadata": {
  "anaconda-cloud": {},
  "kernelspec": {
   "display_name": "Python [Root]",
   "language": "python",
   "name": "Python [Root]"
  },
  "language_info": {
   "codemirror_mode": {
    "name": "ipython",
    "version": 3
   },
   "file_extension": ".py",
   "mimetype": "text/x-python",
   "name": "python",
   "nbconvert_exporter": "python",
   "pygments_lexer": "ipython3",
   "version": "3.5.2"
  }
 },
 "nbformat": 4,
 "nbformat_minor": 0
}
