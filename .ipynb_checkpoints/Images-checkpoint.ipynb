{
 "cells": [
  {
   "cell_type": "code",
   "execution_count": 6,
   "metadata": {
    "collapsed": false,
    "scrolled": false
   },
   "outputs": [
    {
     "ename": "NameError",
     "evalue": "name 'get_img_urls' is not defined",
     "output_type": "error",
     "traceback": [
      "\u001b[1;31m---------------------------------------------------------------------------\u001b[0m",
      "\u001b[1;31mNameError\u001b[0m                                 Traceback (most recent call last)",
      "\u001b[1;32m<ipython-input-6-10f121d4ff20>\u001b[0m in \u001b[0;36m<module>\u001b[1;34m()\u001b[0m\n\u001b[0;32m     23\u001b[0m \u001b[1;33m\u001b[0m\u001b[0m\n\u001b[0;32m     24\u001b[0m \u001b[1;31m# get image urls\u001b[0m\u001b[1;33m\u001b[0m\u001b[1;33m\u001b[0m\u001b[0m\n\u001b[1;32m---> 25\u001b[1;33m \u001b[0murls\u001b[0m \u001b[1;33m=\u001b[0m \u001b[0mget_img_urls\u001b[0m\u001b[1;33m(\u001b[0m\u001b[0mdatam\u001b[0m\u001b[1;33m)\u001b[0m\u001b[1;33m\u001b[0m\u001b[0m\n\u001b[0m\u001b[0;32m     26\u001b[0m \u001b[1;31m#print(urls)\u001b[0m\u001b[1;33m\u001b[0m\u001b[1;33m\u001b[0m\u001b[0m\n\u001b[0;32m     27\u001b[0m \u001b[1;33m\u001b[0m\u001b[0m\n",
      "\u001b[1;31mNameError\u001b[0m: name 'get_img_urls' is not defined"
     ]
    }
   ],
   "source": [
    "from craigslist import *\n",
    "from util import *\n",
    "#from StringIO import StringIO\n",
    "from IPython.display import Image\n",
    "from IPython.core.display import HTML \n",
    "\n",
    "import urllib\n",
    "\n",
    "\n",
    "\n",
    "\n",
    "# get the collection of desired data\n",
    "houses = CraigslistForSale(\n",
    "    site=\"boston\"\n",
    ")\n",
    "\n",
    "\n",
    "result = houses.get_results(limit=10)\n",
    "\n",
    "next(result)\n",
    "datam = next(result)\n",
    "#print(datam)\n",
    "\n",
    "# get image urls\n",
    "urls = get_img_urls(datam)\n",
    "#print(urls)\n",
    "\n",
    "# download images\n",
    "for url in urls:\n",
    "    \n",
    "    # display image\n",
    "    Image(url=url)\n",
    "    \n",
    "\n",
    "    '''\n",
    "    img = Image.open(\n",
    "        StringIO(urllib.urlopen(url).read())\n",
    "    )\n",
    "\n",
    "    '''\n",
    "    \n",
    "    '''\n",
    "    urllib.urlretrieve(\n",
    "        url,\n",
    "        \"./images/\" + url.rsplit('/', 1)[-1]\n",
    "    )\n",
    "    '''\n"
   ]
  },
  {
   "cell_type": "code",
   "execution_count": null,
   "metadata": {
    "collapsed": true
   },
   "outputs": [],
   "source": []
  },
  {
   "cell_type": "code",
   "execution_count": null,
   "metadata": {
    "collapsed": true
   },
   "outputs": [],
   "source": []
  }
 ],
 "metadata": {
  "kernelspec": {
   "display_name": "Python [Root]",
   "language": "python",
   "name": "Python [Root]"
  },
  "language_info": {
   "codemirror_mode": {
    "name": "ipython",
    "version": 3
   },
   "file_extension": ".py",
   "mimetype": "text/x-python",
   "name": "python",
   "nbconvert_exporter": "python",
   "pygments_lexer": "ipython3",
   "version": "3.5.2"
  }
 },
 "nbformat": 4,
 "nbformat_minor": 0
}
