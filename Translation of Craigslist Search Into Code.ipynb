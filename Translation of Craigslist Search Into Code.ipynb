{
 "cells": [
  {
   "cell_type": "code",
   "execution_count": 3,
   "metadata": {
    "collapsed": false
   },
   "outputs": [
    {
     "name": "stdout",
     "output_type": "stream",
     "text": [
      "{'has_map': True, 'url': 'http://boston.craigslist.org/sob/cpg/5810612345.html', 'price': None, 'geotag': None, 'where': None, 'datetime': '2016-10-03 11:23', 'has_image': True, 'name': 'Entry Level Social Media', 'id': '5810612345'}\n",
      "{'has_map': True, 'url': 'http://boston.craigslist.org/nos/evg/5762445282.html', 'price': None, 'geotag': None, 'where': 'Danvers, MA', 'datetime': '2016-09-26 17:34', 'has_image': True, 'name': 'Launch Your Career in Solar - Entry Level Sales - Hourly + Commission', 'id': '5762445282'}\n",
      "{'has_map': True, 'url': 'http://hartford.craigslist.org/cpg/5810601410.html', 'price': None, 'geotag': None, 'where': 'htf > Hartford', 'datetime': '2016-10-03 10:59', 'has_image': True, 'name': 'Social Media Marketers Entry Level', 'id': '5810601410'}\n",
      "{'has_map': True, 'url': 'http://worcester.craigslist.org/lbg/5794462746.html', 'price': None, 'geotag': None, 'where': 'wor', 'datetime': '2016-09-28 21:00', 'has_image': True, 'name': 'Entry lvl heavy equip tech amazing location no previous exp needed', 'id': '5794462746'}\n",
      "{'has_map': True, 'url': 'http://providence.craigslist.org/cpg/5801287772.html', 'price': None, 'geotag': None, 'where': 'prv > Woonsocket, RI', 'datetime': '2016-09-27 09:44', 'has_image': True, 'name': 'Data Entry Technician', 'id': '5801287772'}\n"
     ]
    }
   ],
   "source": [
    "'''\n",
    "    This search query: http://boston.craigslist.org/search/cpg?query=entry&is_paid=yes&hasPic=1\n",
    "    \n",
    "    Is equivalent to what you see below.\n",
    "\n",
    "'''\n",
    "\n",
    "from craigslist import *\n",
    "\n",
    "gigs = CraigslistGigs(\n",
    "    site=\"boston\",\n",
    "    filters={\n",
    "        \"search_titles\" : True,\n",
    "        \"is_paid\" : True,\n",
    "        \"has_image\" : True,\n",
    "        \"query\" : \"entry\"\n",
    "    }\n",
    ")\n",
    "\n",
    "for result in gigs.get_results(limit=20):\n",
    "    print(result)"
   ]
  },
  {
   "cell_type": "code",
   "execution_count": null,
   "metadata": {
    "collapsed": true
   },
   "outputs": [],
   "source": []
  }
 ],
 "metadata": {
  "kernelspec": {
   "display_name": "Python [Root]",
   "language": "python",
   "name": "Python [Root]"
  },
  "language_info": {
   "codemirror_mode": {
    "name": "ipython",
    "version": 3
   },
   "file_extension": ".py",
   "mimetype": "text/x-python",
   "name": "python",
   "nbconvert_exporter": "python",
   "pygments_lexer": "ipython3",
   "version": "3.5.2"
  }
 },
 "nbformat": 4,
 "nbformat_minor": 0
}
