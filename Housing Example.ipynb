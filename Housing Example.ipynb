{
 "cells": [
  {
   "cell_type": "code",
   "execution_count": 13,
   "metadata": {
    "collapsed": false
   },
   "outputs": [
    {
     "data": {
      "text/html": [
       "<iframe id=\"igraph\" scrolling=\"no\" style=\"border:none;\" seamless=\"seamless\" src=\"https://plot.ly/~gregv21v/6.embed\" height=\"525\" width=\"100%\"></iframe>"
      ],
      "text/plain": [
       "<plotly.tools.PlotlyDisplay object>"
      ]
     },
     "execution_count": 13,
     "metadata": {},
     "output_type": "execute_result"
    }
   ],
   "source": [
    "'''\n",
    "    Here is a very simple example that\n",
    "    graphs prices with plotly, along\n",
    "    with the craigslist api.\n",
    "'''\n",
    "from craigslist import *\n",
    "\n",
    "import plotly\n",
    "import plotly.plotly as py\n",
    "import plotly.graph_objs as go\n",
    "import plotly.tools as tls\n",
    "\n",
    "\n",
    "\n",
    "plotly.tools.set_credentials_file(\n",
    "    username=\"gregv21v\",\n",
    "    api_key=\"8b7n55ydz9\"\n",
    ")\n",
    "houses = CraigslistHousing(\n",
    "    site=\"boston\", # Site is the city, I think.\n",
    "    filters={\n",
    "        \"search_distance\" : 100\n",
    "    }\n",
    ")\n",
    "\n",
    "indices = [0];\n",
    "prices = [];\n",
    "for result in houses.get_results(limit=5):\n",
    "    prices.append(result[\"price\"])\n",
    "    indices.append(indices[len(indices) - 1] + 0.1)\n",
    "\n",
    "\n",
    "data = [\n",
    "    go.Scatter(\n",
    "        x = indices,\n",
    "        y = prices,\n",
    "        mode = \"markers\"\n",
    "    )\n",
    "]\n",
    "\n",
    "py.iplot(data, filename=\"basic-prices\")\n",
    "#print (plot.url)\n",
    "\n",
    "tls.embed(\"https://plot.ly/~gregv21v/6/\")\n",
    "\n"
   ]
  },
  {
   "cell_type": "code",
   "execution_count": null,
   "metadata": {
    "collapsed": true
   },
   "outputs": [],
   "source": []
  },
  {
   "cell_type": "code",
   "execution_count": null,
   "metadata": {
    "collapsed": true
   },
   "outputs": [],
   "source": []
  }
 ],
 "metadata": {
  "anaconda-cloud": {},
  "kernelspec": {
   "display_name": "Python [Root]",
   "language": "python",
   "name": "Python [Root]"
  },
  "language_info": {
   "codemirror_mode": {
    "name": "ipython",
    "version": 3
   },
   "file_extension": ".py",
   "mimetype": "text/x-python",
   "name": "python",
   "nbconvert_exporter": "python",
   "pygments_lexer": "ipython3",
   "version": "3.5.2"
  }
 },
 "nbformat": 4,
 "nbformat_minor": 0
}
