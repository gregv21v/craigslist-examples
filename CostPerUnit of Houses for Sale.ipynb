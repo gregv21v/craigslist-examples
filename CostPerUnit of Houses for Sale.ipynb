{
 "cells": [
  {
   "cell_type": "code",
   "execution_count": 5,
   "metadata": {
    "collapsed": false
   },
   "outputs": [
    {
     "name": "stdout",
     "output_type": "stream",
     "text": [
      "Average cost per sq ft: 106.67877733866887\n",
      "Maximum cost per sq ft: 420.4709274387314\n",
      "===========================================\n",
      "House: {'price': '$1750000', 'datetime': '2016-10-03 15:43', 'name': 'Turn your Dream Home to Reality', 'url': 'http://boston.craigslist.org/gbs/reb/5811283734.html', 'where': '5000 PETTERSON ROAD', 'has_map': True, 'id': '5811283734', 'has_image': True, 'geotag': (46.066991, -110.561791)}\n",
      "===========================================\n",
      "Minimum cost per sq ft: 0.46422628951747086\n",
      "===========================================\n",
      "House: {'price': '$1116', 'datetime': '2016-10-03 16:48', 'name': 'Great 3bd 2bth! GOOD SCHOOLS', 'url': 'http://boston.craigslist.org/gbs/fee/5804824171.html', 'where': 'Boston/Cambridge/Bro', 'has_map': True, 'id': '5804824171', 'has_image': True, 'geotag': None}\n",
      "===========================================\n"
     ]
    }
   ],
   "source": [
    "'''\n",
    "    The idea of this example is\n",
    "    to calculate the average cost\n",
    "    per unit of land in a given area.\n",
    "    In this case, we are exploring the\n",
    "    Boston area.\n",
    "\n",
    "    If you track the trend, in pricing\n",
    "    per unit of land you may be able to\n",
    "    track gentrification as it happens. \n",
    "'''\n",
    "from craigslist import *\n",
    "from bs4 import BeautifulSoup\n",
    "from util import *\n",
    "import json\n",
    "import os\n",
    "\n",
    "houses = CraigslistHousing(\n",
    "    site=\"boston\",\n",
    "    filters={\n",
    "        \"search_distance\" : 30,\n",
    "        \"housing_type\" : [\n",
    "            \"house\",\n",
    "            \"townhouse\"\n",
    "        ]\n",
    "    }\n",
    ")\n",
    "\n",
    "\n",
    "results = houses.get_results(limit=100, geotagged=True)\n",
    "\n",
    "# get the square footage of each house\n",
    "resList = []\n",
    "total = 0\n",
    "count = 0\n",
    "\n",
    "\n",
    "maxValue = 0 # max cost per square unit\n",
    "maxRes = {}\n",
    "minValue = 0 # min cost per square unit\n",
    "minRes = {}\n",
    "\n",
    "\n",
    "\n",
    "for result in results:\n",
    "\n",
    "    attrs = get_attrs(result)\n",
    "    sqft = search_for(attrs, \"ft\")\n",
    "\n",
    "    #print(result)\n",
    "    try:\n",
    "        sqft = float(sqft[0][0:-3])\n",
    "    except IndexError:\n",
    "        pass\n",
    "    else: # happens if no exception occurs\n",
    "        try:\n",
    "            price = float(result[\"price\"][1:])\n",
    "        except TypeError:\n",
    "            pass\n",
    "        else:\n",
    "            count += 1.0\n",
    "            total += price / sqft # $ / sqft\n",
    "\n",
    "            if(count == 1):\n",
    "                maxValue = price / sqft\n",
    "                minValue = price / sqft\n",
    "\n",
    "                minRes = result\n",
    "                maxRes = result\n",
    "\n",
    "            else:\n",
    "                if(maxValue < price / sqft):\n",
    "                    maxValue = price / sqft\n",
    "                    maxRes = result\n",
    "\n",
    "                if(minValue > price / sqft):\n",
    "                    minValue = price / sqft\n",
    "                    minRes = result\n",
    "\n",
    "\n",
    "print(\"Average cost per sq ft: \" + str(total/count))\n",
    "print(\"Maximum cost per sq ft: \" + str(maxValue))\n",
    "print(\"===========================================\")\n",
    "print(\"House: \" + str(maxRes))\n",
    "print(\"===========================================\")\n",
    "print(\"Minimum cost per sq ft: \" + str(minValue))\n",
    "print(\"===========================================\")\n",
    "print(\"House: \" + str(minRes))\n",
    "print(\"===========================================\")\n"
   ]
  },
  {
   "cell_type": "code",
   "execution_count": null,
   "metadata": {
    "collapsed": true
   },
   "outputs": [],
   "source": []
  }
 ],
 "metadata": {
  "kernelspec": {
   "display_name": "Python [Root]",
   "language": "python",
   "name": "Python [Root]"
  },
  "language_info": {
   "codemirror_mode": {
    "name": "ipython",
    "version": 3
   },
   "file_extension": ".py",
   "mimetype": "text/x-python",
   "name": "python",
   "nbconvert_exporter": "python",
   "pygments_lexer": "ipython3",
   "version": "3.5.2"
  }
 },
 "nbformat": 4,
 "nbformat_minor": 0
}
