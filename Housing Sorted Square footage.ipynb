{
 "cells": [
  {
   "cell_type": "code",
   "execution_count": null,
   "metadata": {
    "collapsed": true
   },
   "outputs": [],
   "source": []
  },
  {
   "cell_type": "code",
   "execution_count": 7,
   "metadata": {
    "collapsed": false
   },
   "outputs": [
    {
     "name": "stdout",
     "output_type": "stream",
     "text": [
      "[{'sqft': 3000, 'url': 'http://boston.craigslist.org/sob/sub/5806921233.html', 'has_image': False, 'geotag': None, 'datetime': '2016-09-30 16:29', 'id': '5806921233', 'price': '$650', 'name': 'ROOMATE WANTED FOR LARGE SPACIOUS HOME', 'has_map': False, 'where': 'attleboro'}, {'sqft': 1785, 'url': 'http://boston.craigslist.org/gbs/reb/5767441711.html', 'has_image': True, 'geotag': (41.6883, -71.1574), 'datetime': '2016-09-30 16:27', 'id': '5767441711', 'price': '$239900', 'name': 'The property with 5 rooms, sits on 0.14 Acres lot... 3 Beds', 'has_map': True, 'where': 'Fall River'}, {'sqft': 1360, 'url': 'http://boston.craigslist.org/gbs/reb/5776204269.html', 'has_image': True, 'geotag': (42.5608, -70.8759), 'datetime': '2016-09-30 16:21', 'id': '5776204269', 'price': '$339000', 'name': 'Commuter rail,restaurants,parks,schools,waterfront... 2 Beds', 'has_map': True, 'where': 'Beverly'}]\n"
     ]
    }
   ],
   "source": [
    "# %load HousingSortedBySquareFoot.py\n",
    "'''\n",
    "Housing postings according to square footage\n",
    "in boston.\n",
    "\n",
    "\n",
    "One of the key features to note about this example\n",
    "is that it's taking data from the craigslist article\n",
    "itself, which the api does not natively support. \n",
    "\n",
    "\n",
    "\n",
    "If you look at a few craigslist postings, you will \n",
    "notice that there are various attributes below the map,\n",
    "depending on the article.\n",
    "\n",
    "'''\n",
    "\n",
    "from craigslist import *\n",
    "from bs4 import BeautifulSoup\n",
    "from util import *\n",
    "import json\n",
    "import os\n",
    "\n",
    "houses = CraigslistHousing(\n",
    "    site=\"boston\",\n",
    "    filters={\n",
    "        \"housing_type\" : [\n",
    "            \"house\",\n",
    "            \"townhouse\"\n",
    "        ]\n",
    "    }\n",
    ")\n",
    "\n",
    "\n",
    "results = houses.get_results(limit=5, geotagged=True)\n",
    "\n",
    "# get the square footage of each house\n",
    "resList = []\n",
    "for result in results:\n",
    "    #print result[\"url\"]\n",
    "\n",
    "    attrs = get_attrs(result)\n",
    "\n",
    "    #print str(attrs)\n",
    "\n",
    "    attr = search_for(attrs, \"ft\")\n",
    "\n",
    "    #print \"Attr: \" + str(attr)\n",
    "    if not attr is None and len(attr) > 0:\n",
    "        result[\"sqft\"] = int(attr[0][0:-3])\n",
    "        resList.append(result)\n",
    "\n",
    "\n",
    "\n",
    "\n",
    "\n",
    "    #print attr\n",
    "\n",
    "\n",
    "sorted(resList, key=lambda result: result[\"sqft\"])\n",
    "print(resList)\n",
    "\n",
    "'''\n",
    "# store in seperate files\n",
    "index = 0\n",
    "for res in resList:\n",
    "    filename = \"jsonFiles/res\" + str(res[\"id\"]) + \".json\"\n",
    "    if not os.path.exists(filename):\n",
    "        f = open(filename, \"w\")\n",
    "        f.write(json.dumps(res))\n",
    "        f.close()\n",
    "        index += 1\n",
    "\n",
    "'''\n",
    "\n"
   ]
  },
  {
   "cell_type": "markdown",
   "metadata": {},
   "source": [
    "Here are some examples of the files that the code might have created if juypter supported the creation of files. "
   ]
  },
  {
   "cell_type": "code",
   "execution_count": null,
   "metadata": {
    "collapsed": true
   },
   "outputs": [],
   "source": [
    "{\"sqft\": 1785, \n",
    " \"url\": \"http://boston.craigslist.org/gbs/reb/5767441711.html\", \n",
    " \"has_image\": true, \n",
    " \"geotag\": [41.6883, -71.1574], \n",
    " \"datetime\": \"2016-09-30 16:27\", \n",
    " \"id\": \"5767441711\", \n",
    " \"price\": \"$239900\", \n",
    " \"name\": \"The property with 5 rooms, sits on 0.14 Acres lot... 3 Beds\", \n",
    " \"has_map\": true, \n",
    " \"where\": \"Fall River\"}\n"
   ]
  },
  {
   "cell_type": "code",
   "execution_count": null,
   "metadata": {
    "collapsed": true
   },
   "outputs": [],
   "source": [
    "{\"sqft\": 1360, \n",
    " \"url\": \"http://boston.craigslist.org/gbs/reb/5776204269.html\", \n",
    " \"has_image\": true, \n",
    " \"geotag\": [42.5608, -70.8759], \n",
    " \"datetime\": \"2016-09-30 16:21\", \n",
    " \"id\": \"5776204269\", \n",
    " \"price\": \"$339000\", \n",
    " \"name\": \"Commuter rail,restaurants,parks,schools,waterfront... 2 Beds\", \n",
    " \"has_map\": true, \n",
    " \"where\": \"Beverly\"}"
   ]
  }
 ],
 "metadata": {
  "kernelspec": {
   "display_name": "Python [Root]",
   "language": "python",
   "name": "Python [Root]"
  },
  "language_info": {
   "codemirror_mode": {
    "name": "ipython",
    "version": 3
   },
   "file_extension": ".py",
   "mimetype": "text/x-python",
   "name": "python",
   "nbconvert_exporter": "python",
   "pygments_lexer": "ipython3",
   "version": "3.5.2"
  }
 },
 "nbformat": 4,
 "nbformat_minor": 0
}
