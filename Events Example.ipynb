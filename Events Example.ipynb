{
 "cells": [
  {
   "cell_type": "code",
   "execution_count": 3,
   "metadata": {
    "collapsed": false
   },
   "outputs": [
    {
     "name": "stdout",
     "output_type": "stream",
     "text": [
      "{'datetime': 'favorite this post\\n\\n\\n9/26-10/9\\n            PARANORMAL COMIC BOOK!!!', 'name': 'PARANORMAL COMIC BOOK!!!', 'where': 'BOSTON', 'geotag': None, 'id': '5780977406', 'price': None, 'has_map': False, 'has_image': False, 'url': 'http://boston.craigslist.org/gbs/eve/5780977406.html'}\n",
      "{'datetime': 'favorite this post\\n\\n\\n9/26-10/9\\n            PARANORMAL COMIC BOOK!!!', 'name': 'PARANORMAL COMIC BOOK!!!', 'where': 'BOSTON', 'geotag': None, 'id': '5780977406', 'price': None, 'has_map': False, 'has_image': False, 'url': 'http://boston.craigslist.org/gbs/eve/5780977406.html'}\n",
      "{'datetime': 'favorite this post\\n\\n\\n9/26-10/9\\n            PARANORMAL COMIC BOOK!!!', 'name': 'PARANORMAL COMIC BOOK!!!', 'where': 'BOSTON', 'geotag': None, 'id': '5780977406', 'price': None, 'has_map': False, 'has_image': False, 'url': 'http://boston.craigslist.org/gbs/eve/5780977406.html'}\n"
     ]
    }
   ],
   "source": [
    "'''\n",
    "    This example shows\n",
    "    the api searching for\n",
    "    different events\n",
    "\n",
    "'''\n",
    "from craigslist import *\n",
    "\n",
    "\n",
    "events = CraigslistEvents(\n",
    "    site=\"boston\", # Site is the city, I think.\n",
    "    filters={\n",
    "        \"query\": \"computer | science | book | game | club | cards\",\n",
    "        \"search_titles\": \"F\"\n",
    "    }\n",
    ")\n",
    "\n",
    "\n",
    "for result in events.get_results(limit=3):\n",
    "    print(result)\n"
   ]
  },
  {
   "cell_type": "code",
   "execution_count": null,
   "metadata": {
    "collapsed": true
   },
   "outputs": [],
   "source": []
  }
 ],
 "metadata": {
  "kernelspec": {
   "display_name": "Python [Root]",
   "language": "python",
   "name": "Python [Root]"
  },
  "language_info": {
   "codemirror_mode": {
    "name": "ipython",
    "version": 3
   },
   "file_extension": ".py",
   "mimetype": "text/x-python",
   "name": "python",
   "nbconvert_exporter": "python",
   "pygments_lexer": "ipython3",
   "version": "3.5.2"
  }
 },
 "nbformat": 4,
 "nbformat_minor": 0
}
